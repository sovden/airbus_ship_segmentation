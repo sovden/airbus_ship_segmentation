{
 "cells": [
  {
   "cell_type": "code",
   "execution_count": 18,
   "id": "2055dd1a-46cc-46c6-95ae-bdddad1f1629",
   "metadata": {},
   "outputs": [],
   "source": [
    "from keras.models import load_model\n",
    "from local_utils.inference_utils import img_by_path, show_one_image_segmentation\n",
    "import numpy as np"
   ]
  },
  {
   "cell_type": "code",
   "execution_count": null,
   "id": "4f46b30b-158c-4e37-aedd-1b81270109c0",
   "metadata": {},
   "outputs": [],
   "source": [
    "TARGET_SIZE = (224, 224) # dont change, model was trained for this size\n",
    "IMG_PATH = \"test_images/test_image_7.jpg\""
   ]
  },
  {
   "cell_type": "code",
   "execution_count": null,
   "id": "70f0b9ad-f0a2-4468-b719-da1961224b37",
   "metadata": {},
   "outputs": [],
   "source": [
    "model = load_model('saved_models/mobilenetv2_unet.h5', custom_objects={\"dice_loss\": dice_loss,\n",
    "                                                                       \"dice_coef\": dice_coef,\n",
    "                                                                       \"iou\": iou})"
   ]
  },
  {
   "cell_type": "code",
   "execution_count": null,
   "id": "b785f945-7f02-4da8-992c-ee095b8c2c48",
   "metadata": {},
   "outputs": [],
   "source": [
    "img_array = img_by_path(IMG_PATH, TARGET_SIZE)\n",
    "yp = np.array(model.predict(np.expand_dims(img_array / 255.0, 0)))\n",
    "yp = np.where(yp > 0.5, 1.0, 0.0)\n",
    "\n",
    "show_one_image_segmentation(img_array, yp[0])"
   ]
  },
  {
   "cell_type": "code",
   "execution_count": null,
   "id": "8c5efcfa-0a81-4017-a0ad-7497d4489335",
   "metadata": {},
   "outputs": [],
   "source": []
  },
  {
   "cell_type": "code",
   "execution_count": null,
   "id": "c259845b-6477-498a-b99f-44b507490aef",
   "metadata": {},
   "outputs": [],
   "source": []
  }
 ],
 "metadata": {
  "kernelspec": {
   "display_name": "Python 3 (ipykernel)",
   "language": "python",
   "name": "python3"
  },
  "language_info": {
   "codemirror_mode": {
    "name": "ipython",
    "version": 3
   },
   "file_extension": ".py",
   "mimetype": "text/x-python",
   "name": "python",
   "nbconvert_exporter": "python",
   "pygments_lexer": "ipython3",
   "version": "3.9.7"
  }
 },
 "nbformat": 4,
 "nbformat_minor": 5
}
